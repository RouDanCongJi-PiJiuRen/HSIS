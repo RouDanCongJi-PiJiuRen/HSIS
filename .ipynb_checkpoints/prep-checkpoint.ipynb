{
 "cells": [
  {
   "cell_type": "code",
   "execution_count": null,
   "metadata": {
    "colab": {
     "base_uri": "https://localhost:8080/"
    },
    "id": "bIlggEIeURG0",
    "outputId": "1d986912-3b37-4094-9771-ecdf2741ff3f"
   },
   "outputs": [],
   "source": [
    "!pip install matplot\n"
   ]
  },
  {
   "cell_type": "code",
   "execution_count": null,
   "metadata": {},
   "outputs": [],
   "source": [
    "! pip install geopandas"
   ]
  },
  {
   "cell_type": "code",
   "execution_count": null,
   "metadata": {
    "id": "_Us1nC7UFerV"
   },
   "outputs": [],
   "source": [
    "import pandas as pd\n",
    "import streamlit as st\n",
    "import os as os"
   ]
  },
  {
   "cell_type": "code",
   "execution_count": null,
   "metadata": {
    "colab": {
     "base_uri": "https://localhost:8080/"
    },
    "id": "7UnO79s6H876",
    "outputId": "259d0b53-ede8-4efc-9403-966c61138e53"
   },
   "outputs": [],
   "source": [
    "os.listdir(r\"C:\\Users\\Sourabh Sharma\\project\")"
   ]
  },
  {
   "cell_type": "code",
   "execution_count": null,
   "metadata": {
    "colab": {
     "base_uri": "https://localhost:8080/"
    },
    "id": "MTSjSAf5UgT4",
    "outputId": "7d3e0543-3125-4fab-f559-094f8f44d428",
    "scrolled": true
   },
   "outputs": [],
   "source": [
    "acc_data_17 = pd.read_csv(r'C:/Users/Sourabh Sharma/project/hsis-csv/wa17acc.csv')\n",
    "acc_data_16 = pd.read_csv(r'C:/Users/Sourabh Sharma/project/hsis-csv/wa16acc.csv')\n",
    "acc_data_15 = pd.read_csv(r'C:/Users/Sourabh Sharma/project/hsis-csv/wa15acc.csv')\n",
    "acc_data_14 = pd.read_csv(r'C:/Users/Sourabh Sharma/project/hsis-csv/wa14acc.csv')\n",
    "acc_data_13 = pd.read_csv(r'C:/Users/Sourabh Sharma/project/hsis-csv/wa13acc.csv')\n",
    "\n",
    "\n",
    "acc_data_17.head()"
   ]
  },
  {
   "cell_type": "code",
   "execution_count": null,
   "metadata": {
    "id": "pQo-Fpy7XF10"
   },
   "outputs": [],
   "source": [
    "road_data = pd.read_csv('C:/Users/Sourabh Sharma/project/hsis-csv/wa17road.csv')\n",
    "road_data.head()"
   ]
  },
  {
   "cell_type": "code",
   "execution_count": null,
   "metadata": {
    "id": "rN85M_LOXNpm"
   },
   "outputs": [],
   "source": [
    "veh_data = pd.read_csv('C:/Users/Sourabh Sharma/project/hsis-csv/wa17veh.csv')\n",
    "veh_data.head()"
   ]
  },
  {
   "cell_type": "code",
   "execution_count": null,
   "metadata": {
    "id": "8C5wpjGbX52v"
   },
   "outputs": [],
   "source": [
    "##reading files for 2017\n",
    "import pandas as pd\n",
    "coor_3_17 = pd.read_csv('C:/Users/Sourabh Sharma/project/coords-noaa/2017_coords_3.csv')\n",
    "coor_2_17 = pd.read_csv('C:/Users/Sourabh Sharma/project/coords-noaa/2017_coords_2.csv')\n",
    "coor_1_17 = pd.read_csv('C:/Users/Sourabh Sharma/project/coords-noaa/2017_coords_1.csv')\n",
    "coor_0_17 = pd.read_csv('C:/Users/Sourabh Sharma/project/coords-noaa/2017_coords_0.csv')\n",
    "\n",
    "##attaching alll coordinate files together for 2017\n",
    "coor_17 = pd.concat([coor_0_17, coor_1_17, coor_2_17, coor_3_17], ignore_index=True)\n",
    "coor_17.head()\n",
    "coor_17.shape\n",
    "coor_17.to_csv(\"C:/Users/Sourabh Sharma/project/coor_17.csv\",index=False)\n",
    "\n",
    "##reading files for 2016\n",
    "coor_3_16 = pd.read_csv('C:/Users/Sourabh Sharma/project/coords-noaa/2016_coords_3.csv')\n",
    "coor_2_16 = pd.read_csv('C:/Users/Sourabh Sharma/project/coords-noaa/2016_coords_2.csv')\n",
    "coor_1_16 = pd.read_csv('C:/Users/Sourabh Sharma/project/coords-noaa/2016_coords_1.csv')\n",
    "coor_0_16 = pd.read_csv('C:/Users/Sourabh Sharma/project/coords-noaa/2016_coords_0.csv')\n",
    "\n",
    "##attaching alll coordinate files together 2016\n",
    "coor_16 = pd.concat([coor_0_16, coor_1_16, coor_2_16, coor_3_16], ignore_index=True)\n",
    "coor_16.head()\n",
    "coor_16.shape\n",
    "coor_16.to_csv(\"C:/Users/Sourabh Sharma/project/coor_16.csv\",index=False)\n",
    "\n",
    "##reading files for 2015\n",
    "coor_3_15 = pd.read_csv('C:/Users/Sourabh Sharma/project/coords-noaa/2015_coords_3.csv')\n",
    "coor_2_15 = pd.read_csv('C:/Users/Sourabh Sharma/project/coords-noaa/2015_coords_2.csv')\n",
    "coor_1_15 = pd.read_csv('C:/Users/Sourabh Sharma/project/coords-noaa/2015_coords_1.csv')\n",
    "coor_0_15 = pd.read_csv('C:/Users/Sourabh Sharma/project/coords-noaa/2015_coords_0.csv')\n",
    "\n",
    "##attaching alll coordinate files together 2015\n",
    "coor_15 = pd.concat([coor_0_15, coor_1_15, coor_2_15, coor_3_15], ignore_index=True)\n",
    "coor_15.head()\n",
    "coor_15.shape\n",
    "coor_15.to_csv(\"C:/Users/Sourabh Sharma/project/coor_15.csv\",index=False)\n",
    "\n",
    "##reading files for 2014\n",
    "coor_3_14 = pd.read_csv('C:/Users/Sourabh Sharma/project/coords-noaa/2014_coords_3.csv')\n",
    "coor_2_14 = pd.read_csv('C:/Users/Sourabh Sharma/project/coords-noaa/2014_coords_2.csv')\n",
    "coor_1_14 = pd.read_csv('C:/Users/Sourabh Sharma/project/coords-noaa/2014_coords_1.csv')\n",
    "coor_0_14 = pd.read_csv('C:/Users/Sourabh Sharma/project/coords-noaa/2014_coords_0.csv')\n",
    "\n",
    "##attaching alll coordinate files together 2014\n",
    "coor_14 = pd.concat([coor_0_14, coor_1_14, coor_2_14, coor_3_14], ignore_index=True)\n",
    "coor_14.head()\n",
    "coor_14.shape\n",
    "coor_14.to_csv(\"C:/Users/Sourabh Sharma/project/coor_14.csv\",index=False)\n",
    "\n",
    "##reading files for 2013\n",
    "coor_2_13 = pd.read_csv('C:/Users/Sourabh Sharma/project/coords-noaa/2013_coords_2.csv')\n",
    "coor_1_13 = pd.read_csv('C:/Users/Sourabh Sharma/project/coords-noaa/2013_coords_1.csv')\n",
    "coor_0_13 = pd.read_csv('C:/Users/Sourabh Sharma/project/coords-noaa/2013_coords_0.csv')\n",
    "\n",
    "##attaching alll coordinate files together 2013\n",
    "coor_13 = pd.concat([coor_0_13, coor_1_13, coor_2_13], ignore_index=True)\n",
    "coor_13.head()\n",
    "coor_13.shape\n",
    "coor_13.to_csv(\"C:/Users/Sourabh Sharma/project/coor_13.csv\",index=False)\n"
   ]
  },
  {
   "cell_type": "code",
   "execution_count": null,
   "metadata": {
    "colab": {
     "base_uri": "https://localhost:8080/"
    },
    "id": "xxrfW7JrBea6",
    "outputId": "23274d67-45e8-4f49-f393-1f1a96f78a6a"
   },
   "outputs": [],
   "source": [
    "coor_17.shape"
   ]
  },
  {
   "cell_type": "code",
   "execution_count": null,
   "metadata": {
    "colab": {
     "base_uri": "https://localhost:8080/"
    },
    "id": "YtZpeV5M0045",
    "outputId": "3202d63d-3b27-47cd-c67d-3ca4289472ee"
   },
   "outputs": [],
   "source": [
    "acc_data_17.shape"
   ]
  },
  {
   "cell_type": "code",
   "execution_count": null,
   "metadata": {},
   "outputs": [],
   "source": [
    "coor_16.shape"
   ]
  },
  {
   "cell_type": "code",
   "execution_count": null,
   "metadata": {},
   "outputs": [],
   "source": [
    "acc_data_16.shape"
   ]
  },
  {
   "cell_type": "code",
   "execution_count": null,
   "metadata": {
    "colab": {
     "base_uri": "https://localhost:8080/",
     "height": 299
    },
    "id": "a5MTNj7uAE7w",
    "outputId": "c895ce26-9068-454b-edd9-bf8a8b119db8"
   },
   "outputs": [],
   "source": [
    "acc_data.head()"
   ]
  },
  {
   "cell_type": "markdown",
   "metadata": {
    "id": "MHHwLW4UAYKG"
   },
   "source": [
    "Joining  Accident data and coordinates"
   ]
  },
  {
   "cell_type": "code",
   "execution_count": null,
   "metadata": {
    "colab": {
     "base_uri": "https://localhost:8080/",
     "height": 386
    },
    "id": "acmus_fqAfuG",
    "outputId": "73dbb211-1ce5-4bb4-9142-f33782b4ab1d"
   },
   "outputs": [],
   "source": [
    "ac_cor_17 = pd.merge(acc_data_17, coor_17, left_index=True, right_index=True)\n",
    "ac_cor_17.to_csv(\"C:/Users/Sourabh Sharma/project/ac_cor_17.csv\",index=False)\n",
    "ac_cor_16 = pd.merge(acc_data_16, coor_16, left_index=True, right_index=True)\n",
    "ac_cor_16.to_csv(\"C:/Users/Sourabh Sharma/project/ac_cor_16.csv\",index=False)\n",
    "ac_cor_15 = pd.merge(acc_data_15, coor_15, left_index=True, right_index=True)\n",
    "ac_cor_15.to_csv(\"C:/Users/Sourabh Sharma/project/ac_cor_15.csv\",index=False)\n",
    "ac_cor_14 = pd.merge(acc_data_14, coor_14, left_index=True, right_index=True)\n",
    "ac_cor_14.to_csv(\"C:/Users/Sourabh Sharma/project/ac_cor_14.csv\",index=False)\n",
    "ac_cor_13 = pd.merge(acc_data_13, coor_13, left_index=True, right_index=True)\n",
    "ac_cor_13.to_csv(\"C:/Users/Sourabh Sharma/project/ac_cor_13.csv\",index=False)\n",
    "#ac_cor.shape"
   ]
  },
  {
   "cell_type": "markdown",
   "metadata": {},
   "source": [
    "Joining County list from guidebook to get county name column"
   ]
  },
  {
   "cell_type": "code",
   "execution_count": null,
   "metadata": {},
   "outputs": [],
   "source": [
    "df2 = pd.read_csv('C:/Users/Sourabh Sharma/project/Countylist.csv')\n",
    "ac_cor_17_wc = pd.merge(left = ac_cor_17, right=df2, how = 'left', left_on = \"COUNTY\", right_on=\"COUNTY\")\n",
    "ac_cor_16_wc = pd.merge(left = ac_cor_16, right=df2, how = 'left', left_on = \"COUNTY\", right_on=\"COUNTY\")\n",
    "ac_cor_15_wc = pd.merge(left = ac_cor_15, right=df2, how = 'left', left_on = \"COUNTY\", right_on=\"COUNTY\")\n",
    "ac_cor_14_wc = pd.merge(left = ac_cor_14, right=df2, how = 'left', left_on = \"COUNTY\", right_on=\"COUNTY\")\n",
    "ac_cor_13_wc = pd.merge(left = ac_cor_13, right=df2, how = 'left', left_on = \"COUNTY\", right_on=\"COUNTY\")\n",
    "ac_cor_17_wc.to_csv(\"C:/Users/Sourabh Sharma/project/ac_cor_17_wc.csv\",index=False)\n",
    "ac_cor_16_wc.to_csv(\"C:/Users/Sourabh Sharma/project/ac_cor_16_wc.csv\",index=False)\n",
    "ac_cor_15_wc.to_csv(\"C:/Users/Sourabh Sharma/project/ac_cor_15_wc.csv\",index=False)\n",
    "ac_cor_14_wc.to_csv(\"C:/Users/Sourabh Sharma/project/ac_cor_14_wc.csv\",index=False)\n",
    "ac_cor_13_wc.to_csv(\"C:/Users/Sourabh Sharma/project/ac_cor_13_wc.csv\",index=False)"
   ]
  },
  {
   "cell_type": "code",
   "execution_count": null,
   "metadata": {},
   "outputs": [],
   "source": [
    "! pip install pandasql"
   ]
  },
  {
   "cell_type": "code",
   "execution_count": null,
   "metadata": {},
   "outputs": [],
   "source": [
    "from pandasql import sqldf\n",
    "import pandas as pd"
   ]
  },
  {
   "cell_type": "code",
   "execution_count": null,
   "metadata": {},
   "outputs": [],
   "source": [
    "###reading all files now from road, vehicles etc\n",
    "ac_cor_17_wc = pd.read_csv(\"C:/Users/Sourabh Sharma/project/ac_cor_17_wc.csv\", low_memory=False)\n",
    "ac_cor_16_wc = pd.read_csv(\"C:/Users/Sourabh Sharma/project/ac_cor_16_wc.csv\")\n",
    "ac_cor_15_wc = pd.read_csv(\"C:/Users/Sourabh Sharma/project/ac_cor_15_wc.csv\")\n",
    "ac_cor_14_wc = pd.read_csv(\"C:/Users/Sourabh Sharma/project/ac_cor_14_wc.csv\")\n",
    "ac_cor_13_wc = pd.read_csv(\"C:/Users/Sourabh Sharma/project/ac_cor_13_wc.csv\")\n",
    "\n",
    "\n",
    "wa13road = pd.read_csv(r'C:/Users/Sourabh Sharma/project/hsis-csv/wa13road.csv')\n",
    "wa14road = pd.read_csv(r'C:/Users/Sourabh Sharma/project/hsis-csv/wa14road.csv')\n",
    "wa15road = pd.read_csv(r'C:/Users/Sourabh Sharma/project/hsis-csv/wa15road.csv')\n",
    "wa16road = pd.read_csv(r'C:/Users/Sourabh Sharma/project/hsis-csv/wa16road.csv')\n",
    "wa17road = pd.read_csv(r'C:/Users/Sourabh Sharma/project/hsis-csv/wa17road.csv')\n",
    "\n",
    "wa13veh = pd.read_csv(r'C:/Users/Sourabh Sharma/project/hsis-csv/wa13veh.csv')\n",
    "wa14veh = pd.read_csv(r'C:/Users/Sourabh Sharma/project/hsis-csv/wa14veh.csv')\n",
    "wa15veh = pd.read_csv(r'C:/Users/Sourabh Sharma/project/hsis-csv/wa15veh.csv')\n",
    "wa16veh = pd.read_csv(r'C:/Users/Sourabh Sharma/project/hsis-csv/wa16veh.csv')\n",
    "wa17veh = pd.read_csv(r'C:/Users/Sourabh Sharma/project/hsis-csv/wa17veh.csv')\n",
    "\n",
    "wa13peds = pd.read_csv(r'C:/Users/Sourabh Sharma/project/hsis-csv/wa13peds.csv')\n",
    "wa14peds = pd.read_csv(r'C:/Users/Sourabh Sharma/project/hsis-csv/wa14peds.csv')\n",
    "wa15peds = pd.read_csv(r'C:/Users/Sourabh Sharma/project/hsis-csv/wa15peds.csv')\n",
    "wa16peds = pd.read_csv(r'C:/Users/Sourabh Sharma/project/hsis-csv/wa16peds.csv')\n",
    "wa17peds = pd.read_csv(r'C:/Users/Sourabh Sharma/project/hsis-csv/wa17peds.csv')\n",
    "\n",
    "wa13occ = pd.read_csv(r'C:/Users/Sourabh Sharma/project/hsis-csv/wa13occ.csv')\n",
    "wa14occ = pd.read_csv(r'C:/Users/Sourabh Sharma/project/hsis-csv/wa14occ.csv')\n",
    "wa15occ = pd.read_csv(r'C:/Users/Sourabh Sharma/project/hsis-csv/wa15occ.csv')\n",
    "wa16occ = pd.read_csv(r'C:/Users/Sourabh Sharma/project/hsis-csv/wa16occ.csv')\n",
    "wa17occ = pd.read_csv(r'C:/Users/Sourabh Sharma/project/hsis-csv/wa17occ.csv')\n",
    "\n",
    "wa13grad = pd.read_csv(r'C:/Users/Sourabh Sharma/project/hsis-csv/wa13grad.csv')\n",
    "wa14grad = pd.read_csv(r'C:/Users/Sourabh Sharma/project/hsis-csv/wa14grad.csv')\n",
    "wa15grad = pd.read_csv(r'C:/Users/Sourabh Sharma/project/hsis-csv/wa15grad.csv')\n",
    "wa16grad = pd.read_csv(r'C:/Users/Sourabh Sharma/project/hsis-csv/wa16grad.csv')\n",
    "wa17grad = pd.read_csv(r'C:/Users/Sourabh Sharma/project/hsis-csv/wa17grad.csv')\n",
    "\n",
    "wa13curv = pd.read_csv(r'C:/Users/Sourabh Sharma/project/hsis-csv/wa13curv.csv')\n",
    "wa14curv = pd.read_csv(r'C:/Users/Sourabh Sharma/project/hsis-csv/wa14curv.csv')\n",
    "wa15curv = pd.read_csv(r'C:/Users/Sourabh Sharma/project/hsis-csv/wa15curv.csv')\n",
    "wa16curv = pd.read_csv(r'C:/Users/Sourabh Sharma/project/hsis-csv/wa16curv.csv')\n",
    "wa17curv = pd.read_csv(r'C:/Users/Sourabh Sharma/project/hsis-csv/wa17curv.csv')\n",
    "\n"
   ]
  },
  {
   "cell_type": "code",
   "execution_count": null,
   "metadata": {},
   "outputs": [],
   "source": [
    "##for 2013 acc and road merge\n",
    "\n",
    "pysqldf = lambda q: sqldf(q, globals())\n",
    "# Write your query in SQL syntax, here you can use df as a normal SQL table\n",
    "cond_join= '''\n",
    "    SELECT \n",
    "        acc.* , rd.*\n",
    "    FROM ac_cor_13_wc AS acc\n",
    "    LEFT JOIN wa13road AS rd\n",
    "    ON \n",
    "      (acc.rd_inv = rd.ROAD_INV) AND (acc.milepost >= rd.BEGMP) AND (acc.milepost < rd.ENDMP)\n",
    "'''\n",
    "\n",
    "# Now, get your queries results as dataframe using the sqldf object that you created\n",
    "acc_rd_13 = pysqldf(cond_join)\n",
    "#acc_rd_13.to_csv(\"C:/Users/Sourabh Sharma/project/acc_rd_13.csv\",index=False)\n",
    "\n",
    "\n"
   ]
  },
  {
   "cell_type": "code",
   "execution_count": null,
   "metadata": {},
   "outputs": [],
   "source": [
    "##for 2014 acc and road merge\n",
    "\n",
    "pysqldf = lambda q: sqldf(q, globals())\n",
    "# Write your query in SQL syntax, here you can use df as a normal SQL table\n",
    "cond_join= '''\n",
    "    SELECT \n",
    "        acc.* , rd.*\n",
    "    FROM ac_cor_14_wc AS acc\n",
    "    LEFT JOIN wa14road AS rd\n",
    "    ON \n",
    "      (acc.rd_inv = rd.ROAD_INV) AND (acc.milepost >= rd.BEGMP) AND (acc.milepost < rd.ENDMP)\n",
    "'''\n",
    "\n",
    "# Now, get your queries results as dataframe using the sqldf object that you created\n",
    "acc_rd_14 = pysqldf(cond_join)\n",
    "#acc_rd_14.to_csv(\"C:/Users/Sourabh Sharma/project/acc_rd_14.csv\",index=False)\n"
   ]
  },
  {
   "cell_type": "code",
   "execution_count": null,
   "metadata": {},
   "outputs": [],
   "source": [
    "##for 2015 acc and road merge\n",
    "\n",
    "pysqldf = lambda q: sqldf(q, globals())\n",
    "# Write your query in SQL syntax, here you can use df as a normal SQL table\n",
    "cond_join= '''\n",
    "    SELECT \n",
    "        acc.* , rd.*\n",
    "    FROM ac_cor_15_wc AS acc\n",
    "    LEFT JOIN wa15road AS rd\n",
    "    ON \n",
    "      (acc.rd_inv = rd.ROAD_INV) AND (acc.milepost >= rd.BEGMP) AND (acc.milepost < rd.ENDMP)\n",
    "'''\n",
    "\n",
    "# Now, get your queries results as dataframe using the sqldf object that you created\n",
    "acc_rd_15 = pysqldf(cond_join)\n",
    "#acc_rd_15.to_csv(\"C:/Users/Sourabh Sharma/project/acc_rd_15.csv\",index=False)\n"
   ]
  },
  {
   "cell_type": "code",
   "execution_count": null,
   "metadata": {},
   "outputs": [],
   "source": [
    "##for 2016 acc and road merge\n",
    "\n",
    "pysqldf = lambda q: sqldf(q, globals())\n",
    "# Write your query in SQL syntax, here you can use df as a normal SQL table\n",
    "cond_join= '''\n",
    "    SELECT \n",
    "        acc.* , rd.*\n",
    "    FROM ac_cor_16_wc AS acc\n",
    "    LEFT JOIN wa16road AS rd\n",
    "    ON \n",
    "      (acc.rd_inv = rd.ROAD_INV) AND (acc.milepost >= rd.BEGMP) AND (acc.milepost < rd.ENDMP)\n",
    "'''\n",
    "\n",
    "# Now, get your queries results as dataframe using the sqldf object that you created\n",
    "acc_rd_16 = pysqldf(cond_join)\n",
    "#acc_rd_16.to_csv(\"C:/Users/Sourabh Sharma/project/acc_rd_16.csv\",index=False)\n"
   ]
  },
  {
   "cell_type": "code",
   "execution_count": null,
   "metadata": {},
   "outputs": [],
   "source": [
    "##for 2017 acc and road merge\n",
    "\n",
    "pysqldf = lambda q: sqldf(q, globals())\n",
    "# Write your query in SQL syntax, here you can use df as a normal SQL table\n",
    "cond_join= '''\n",
    "    SELECT \n",
    "        acc.* , rd.*\n",
    "    FROM ac_cor_17_wc AS acc\n",
    "    LEFT JOIN wa17road AS rd\n",
    "    ON \n",
    "      (acc.rd_inv = rd.ROAD_INV) AND (acc.milepost >= rd.BEGMP) AND (acc.milepost < rd.ENDMP)\n",
    "'''\n",
    "\n",
    "# Now, get your queries results as dataframe using the sqldf object that you created\n",
    "acc_rd_17 = pysqldf(cond_join)\n",
    "#acc_rd_17.to_csv(\"C:/Users/Sourabh Sharma/project/acc_rd_17.csv\",index=False)\n"
   ]
  },
  {
   "cell_type": "code",
   "execution_count": null,
   "metadata": {},
   "outputs": [],
   "source": [
    "ac_cor_17_wc.shape\n",
    "acc_rd_16.shape"
   ]
  },
  {
   "cell_type": "code",
   "execution_count": null,
   "metadata": {},
   "outputs": [],
   "source": [
    "appnd_acc_rd = pd.concat([acc_rd_13,acc_rd_14,acc_rd_15,acc_rd_16,acc_rd_17], ignore_index = True)"
   ]
  },
  {
   "cell_type": "code",
   "execution_count": null,
   "metadata": {},
   "outputs": [],
   "source": [
    "appnd_acc_rd.to_csv(\"C:/Users/Sourabh Sharma/project/appnd_acc_rd.csv\",index=False)"
   ]
  },
  {
   "cell_type": "code",
   "execution_count": null,
   "metadata": {},
   "outputs": [],
   "source": [
    "appnd_acc_rd.shape"
   ]
  },
  {
   "cell_type": "markdown",
   "metadata": {
    "id": "8VjFqwvZCpbG"
   },
   "source": [
    "Join "
   ]
  },
  {
   "cell_type": "code",
   "execution_count": null,
   "metadata": {
    "id": "Mj9QD4NIFzRb"
   },
   "outputs": [],
   "source": [
    "Coordinate on Map"
   ]
  },
  {
   "cell_type": "code",
   "execution_count": null,
   "metadata": {
    "colab": {
     "base_uri": "https://localhost:8080/"
    },
    "id": "60D6jr-fHz-e",
    "outputId": "01a3b93d-8f8f-499a-d107-df9559ddd32e"
   },
   "outputs": [],
   "source": [
    "! pip install plotly-geo"
   ]
  },
  {
   "cell_type": "code",
   "execution_count": null,
   "metadata": {},
   "outputs": [],
   "source": [
    "import geopandas as gpd\n",
    "import streamlit as st\n",
    "import pydeck as pdk"
   ]
  },
  {
   "cell_type": "code",
   "execution_count": null,
   "metadata": {},
   "outputs": [],
   "source": [
    "!streamlit run mapping_1.py"
   ]
  },
  {
   "cell_type": "code",
   "execution_count": null,
   "metadata": {
    "colab": {
     "base_uri": "https://localhost:8080/"
    },
    "id": "veqsOc1DTRpR",
    "outputId": "65beff3e-4a26-4982-9d31-7f6541365607"
   },
   "outputs": [],
   "source": [
    "! pip install rioxarray\n",
    "! pip install earthpy"
   ]
  },
  {
   "cell_type": "code",
   "execution_count": null,
   "metadata": {},
   "outputs": [],
   "source": [
    "! pip install streamlit"
   ]
  },
  {
   "cell_type": "code",
   "execution_count": null,
   "metadata": {},
   "outputs": [],
   "source": [
    "ac_cor[\"TOT_KILL\"].dtypes\n",
    "ac_cor.head()"
   ]
  },
  {
   "cell_type": "code",
   "execution_count": null,
   "metadata": {},
   "outputs": [],
   "source": [
    "!streamlit run ex14.py --global.dataFrameSerialization=\"legacy\""
   ]
  },
  {
   "cell_type": "code",
   "execution_count": null,
   "metadata": {},
   "outputs": [],
   "source": [
    "! pip install streamlit_folium"
   ]
  },
  {
   "cell_type": "code",
   "execution_count": null,
   "metadata": {},
   "outputs": [],
   "source": [
    "import json # library to handle JSON files\n",
    "from geopy.geocoders import Nominatim \n",
    "# convert an address into latitude and longitude values\n",
    "import requests # library to handle requests\n",
    "import folium # map rendering library\n",
    "import streamlit as st #creating an app\n",
    "from streamlit_folium import folium_static \n",
    "#using folium on streamlit"
   ]
  },
  {
   "cell_type": "code",
   "execution_count": null,
   "metadata": {
    "scrolled": true
   },
   "outputs": [],
   "source": [
    "!pip install seaborn"
   ]
  },
  {
   "cell_type": "code",
   "execution_count": null,
   "metadata": {},
   "outputs": [],
   "source": [
    "!pip install altair"
   ]
  },
  {
   "cell_type": "code",
   "execution_count": null,
   "metadata": {},
   "outputs": [],
   "source": []
  },
  {
   "cell_type": "code",
   "execution_count": null,
   "metadata": {},
   "outputs": [],
   "source": [
    "!streamlit run map.py --global.dataFrameSerialization=\"legacy\""
   ]
  },
  {
   "cell_type": "code",
   "execution_count": null,
   "metadata": {},
   "outputs": [],
   "source": [
    "!streamlit run histogramtime.py  --global.dataFrameSerialization=\"legacy\""
   ]
  },
  {
   "cell_type": "code",
   "execution_count": null,
   "metadata": {},
   "outputs": [],
   "source": [
    "!pip install tensorflow"
   ]
  },
  {
   "cell_type": "code",
   "execution_count": null,
   "metadata": {},
   "outputs": [],
   "source": [
    "!streamlit run trymap.py  --global.dataFrameSerialization=\"legacy\""
   ]
  },
  {
   "cell_type": "code",
   "execution_count": null,
   "metadata": {},
   "outputs": [],
   "source": [
    "!streamlit run app.py"
   ]
  },
  {
   "cell_type": "code",
   "execution_count": 2,
   "metadata": {},
   "outputs": [
    {
     "name": "stderr",
     "output_type": "stream",
     "text": [
      "/Users/yinshengkou/opt/anaconda3/envs/CSE583/lib/python3.8/site-packages/IPython/core/interactiveshell.py:3457: DtypeWarning: Columns (9,31) have mixed types.Specify dtype option on import or set low_memory=False.\n",
      "  exec(code_obj, self.user_global_ns, self.user_ns)\n",
      "/Users/yinshengkou/opt/anaconda3/envs/CSE583/lib/python3.8/site-packages/IPython/core/interactiveshell.py:3457: DtypeWarning: Columns (31) have mixed types.Specify dtype option on import or set low_memory=False.\n",
      "  exec(code_obj, self.user_global_ns, self.user_ns)\n",
      "/Users/yinshengkou/opt/anaconda3/envs/CSE583/lib/python3.8/site-packages/IPython/core/interactiveshell.py:3457: DtypeWarning: Columns (31) have mixed types.Specify dtype option on import or set low_memory=False.\n",
      "  exec(code_obj, self.user_global_ns, self.user_ns)\n"
     ]
    },
    {
     "ename": "KeyboardInterrupt",
     "evalue": "",
     "output_type": "error",
     "traceback": [
      "\u001b[0;31m---------------------------------------------------------------------------\u001b[0m",
      "\u001b[0;31mKeyboardInterrupt\u001b[0m                         Traceback (most recent call last)",
      "\u001b[0;32m/var/folders/xx/l4678m3d5j1b0ppfn46xfjj00000gn/T/ipykernel_5027/2883040770.py\u001b[0m in \u001b[0;36m<module>\u001b[0;34m\u001b[0m\n\u001b[1;32m     21\u001b[0m     '''\n\u001b[1;32m     22\u001b[0m     \u001b[0;31m# Now, get your queries results as dataframe using the sqldf object that you created\u001b[0m\u001b[0;34m\u001b[0m\u001b[0;34m\u001b[0m\u001b[0;34m\u001b[0m\u001b[0m\n\u001b[0;32m---> 23\u001b[0;31m     \u001b[0macc_rd_wc\u001b[0m \u001b[0;34m=\u001b[0m \u001b[0mpysqldf\u001b[0m\u001b[0;34m(\u001b[0m\u001b[0mcond_join\u001b[0m\u001b[0;34m)\u001b[0m\u001b[0;34m\u001b[0m\u001b[0;34m\u001b[0m\u001b[0m\n\u001b[0m\u001b[1;32m     24\u001b[0m     \u001b[0;31m#acc_rd_wc.to_csv('data/acc_rd_wc{}'.format(i),index=False)\u001b[0m\u001b[0;34m\u001b[0m\u001b[0;34m\u001b[0m\u001b[0;34m\u001b[0m\u001b[0m\n\u001b[1;32m     25\u001b[0m     \u001b[0macc_rd_list\u001b[0m\u001b[0;34m.\u001b[0m\u001b[0mappend\u001b[0m\u001b[0;34m(\u001b[0m\u001b[0macc_rd_wc\u001b[0m\u001b[0;34m)\u001b[0m\u001b[0;34m\u001b[0m\u001b[0;34m\u001b[0m\u001b[0m\n",
      "\u001b[0;32m/var/folders/xx/l4678m3d5j1b0ppfn46xfjj00000gn/T/ipykernel_5027/2883040770.py\u001b[0m in \u001b[0;36m<lambda>\u001b[0;34m(q)\u001b[0m\n\u001b[1;32m     11\u001b[0m     \u001b[0macc_data\u001b[0m \u001b[0;34m=\u001b[0m \u001b[0mpd\u001b[0m\u001b[0;34m.\u001b[0m\u001b[0mread_csv\u001b[0m\u001b[0;34m(\u001b[0m\u001b[0;34m'data/hsis-csv/wa{}acc.csv'\u001b[0m\u001b[0;34m.\u001b[0m\u001b[0mformat\u001b[0m\u001b[0;34m(\u001b[0m\u001b[0mi\u001b[0m\u001b[0;34m)\u001b[0m\u001b[0;34m)\u001b[0m\u001b[0;34m\u001b[0m\u001b[0;34m\u001b[0m\u001b[0m\n\u001b[1;32m     12\u001b[0m     \u001b[0macc_data_wc\u001b[0m \u001b[0;34m=\u001b[0m \u001b[0mpd\u001b[0m\u001b[0;34m.\u001b[0m\u001b[0mmerge\u001b[0m\u001b[0;34m(\u001b[0m\u001b[0mleft\u001b[0m \u001b[0;34m=\u001b[0m \u001b[0macc_data\u001b[0m\u001b[0;34m,\u001b[0m \u001b[0mright\u001b[0m\u001b[0;34m=\u001b[0m\u001b[0mcl\u001b[0m\u001b[0;34m,\u001b[0m \u001b[0mhow\u001b[0m \u001b[0;34m=\u001b[0m \u001b[0;34m'left'\u001b[0m\u001b[0;34m,\u001b[0m \u001b[0mleft_on\u001b[0m \u001b[0;34m=\u001b[0m \u001b[0;34m\"COUNTY\"\u001b[0m\u001b[0;34m,\u001b[0m \u001b[0mright_on\u001b[0m\u001b[0;34m=\u001b[0m\u001b[0;34m\"COUNTY\"\u001b[0m\u001b[0;34m)\u001b[0m\u001b[0;34m\u001b[0m\u001b[0;34m\u001b[0m\u001b[0m\n\u001b[0;32m---> 13\u001b[0;31m     \u001b[0mpysqldf\u001b[0m \u001b[0;34m=\u001b[0m \u001b[0;32mlambda\u001b[0m \u001b[0mq\u001b[0m\u001b[0;34m:\u001b[0m \u001b[0msqldf\u001b[0m\u001b[0;34m(\u001b[0m\u001b[0mq\u001b[0m\u001b[0;34m,\u001b[0m \u001b[0mglobals\u001b[0m\u001b[0;34m(\u001b[0m\u001b[0;34m)\u001b[0m\u001b[0;34m)\u001b[0m\u001b[0;34m\u001b[0m\u001b[0;34m\u001b[0m\u001b[0m\n\u001b[0m\u001b[1;32m     14\u001b[0m     cond_join= '''\n\u001b[1;32m     15\u001b[0m         \u001b[0mSELECT\u001b[0m\u001b[0;34m\u001b[0m\u001b[0;34m\u001b[0m\u001b[0m\n",
      "\u001b[0;32m~/opt/anaconda3/envs/CSE583/lib/python3.8/site-packages/pandasql/sqldf.py\u001b[0m in \u001b[0;36msqldf\u001b[0;34m(query, env, db_uri)\u001b[0m\n\u001b[1;32m    154\u001b[0m     \u001b[0;34m>>\u001b[0m\u001b[0;34m>\u001b[0m \u001b[0msqldf\u001b[0m\u001b[0;34m(\u001b[0m\u001b[0;34m\"select avg(x) from df;\"\u001b[0m\u001b[0;34m,\u001b[0m \u001b[0mlocals\u001b[0m\u001b[0;34m(\u001b[0m\u001b[0;34m)\u001b[0m\u001b[0;34m)\u001b[0m\u001b[0;34m\u001b[0m\u001b[0;34m\u001b[0m\u001b[0m\n\u001b[1;32m    155\u001b[0m     \"\"\"\n\u001b[0;32m--> 156\u001b[0;31m     \u001b[0;32mreturn\u001b[0m \u001b[0mPandaSQL\u001b[0m\u001b[0;34m(\u001b[0m\u001b[0mdb_uri\u001b[0m\u001b[0;34m)\u001b[0m\u001b[0;34m(\u001b[0m\u001b[0mquery\u001b[0m\u001b[0;34m,\u001b[0m \u001b[0menv\u001b[0m\u001b[0;34m)\u001b[0m\u001b[0;34m\u001b[0m\u001b[0;34m\u001b[0m\u001b[0m\n\u001b[0m",
      "\u001b[0;32m~/opt/anaconda3/envs/CSE583/lib/python3.8/site-packages/pandasql/sqldf.py\u001b[0m in \u001b[0;36m__call__\u001b[0;34m(self, query, env)\u001b[0m\n\u001b[1;32m     59\u001b[0m \u001b[0;34m\u001b[0m\u001b[0m\n\u001b[1;32m     60\u001b[0m             \u001b[0;32mtry\u001b[0m\u001b[0;34m:\u001b[0m\u001b[0;34m\u001b[0m\u001b[0;34m\u001b[0m\u001b[0m\n\u001b[0;32m---> 61\u001b[0;31m                 \u001b[0mresult\u001b[0m \u001b[0;34m=\u001b[0m \u001b[0mread_sql\u001b[0m\u001b[0;34m(\u001b[0m\u001b[0mquery\u001b[0m\u001b[0;34m,\u001b[0m \u001b[0mconn\u001b[0m\u001b[0;34m)\u001b[0m\u001b[0;34m\u001b[0m\u001b[0;34m\u001b[0m\u001b[0m\n\u001b[0m\u001b[1;32m     62\u001b[0m             \u001b[0;32mexcept\u001b[0m \u001b[0mDatabaseError\u001b[0m \u001b[0;32mas\u001b[0m \u001b[0mex\u001b[0m\u001b[0;34m:\u001b[0m\u001b[0;34m\u001b[0m\u001b[0;34m\u001b[0m\u001b[0m\n\u001b[1;32m     63\u001b[0m                 \u001b[0;32mraise\u001b[0m \u001b[0mPandaSQLException\u001b[0m\u001b[0;34m(\u001b[0m\u001b[0mex\u001b[0m\u001b[0;34m)\u001b[0m\u001b[0;34m\u001b[0m\u001b[0;34m\u001b[0m\u001b[0m\n",
      "\u001b[0;32m~/opt/anaconda3/envs/CSE583/lib/python3.8/site-packages/pandas/io/sql.py\u001b[0m in \u001b[0;36mread_sql\u001b[0;34m(sql, con, index_col, coerce_float, params, parse_dates, columns, chunksize)\u001b[0m\n\u001b[1;32m    626\u001b[0m         )\n\u001b[1;32m    627\u001b[0m     \u001b[0;32melse\u001b[0m\u001b[0;34m:\u001b[0m\u001b[0;34m\u001b[0m\u001b[0;34m\u001b[0m\u001b[0m\n\u001b[0;32m--> 628\u001b[0;31m         return pandas_sql.read_query(\n\u001b[0m\u001b[1;32m    629\u001b[0m             \u001b[0msql\u001b[0m\u001b[0;34m,\u001b[0m\u001b[0;34m\u001b[0m\u001b[0;34m\u001b[0m\u001b[0m\n\u001b[1;32m    630\u001b[0m             \u001b[0mindex_col\u001b[0m\u001b[0;34m=\u001b[0m\u001b[0mindex_col\u001b[0m\u001b[0;34m,\u001b[0m\u001b[0;34m\u001b[0m\u001b[0;34m\u001b[0m\u001b[0m\n",
      "\u001b[0;32m~/opt/anaconda3/envs/CSE583/lib/python3.8/site-packages/pandas/io/sql.py\u001b[0m in \u001b[0;36mread_query\u001b[0;34m(self, sql, index_col, coerce_float, parse_dates, params, chunksize, dtype)\u001b[0m\n\u001b[1;32m   1591\u001b[0m             )\n\u001b[1;32m   1592\u001b[0m         \u001b[0;32melse\u001b[0m\u001b[0;34m:\u001b[0m\u001b[0;34m\u001b[0m\u001b[0;34m\u001b[0m\u001b[0m\n\u001b[0;32m-> 1593\u001b[0;31m             \u001b[0mdata\u001b[0m \u001b[0;34m=\u001b[0m \u001b[0mresult\u001b[0m\u001b[0;34m.\u001b[0m\u001b[0mfetchall\u001b[0m\u001b[0;34m(\u001b[0m\u001b[0;34m)\u001b[0m\u001b[0;34m\u001b[0m\u001b[0;34m\u001b[0m\u001b[0m\n\u001b[0m\u001b[1;32m   1594\u001b[0m             frame = _wrap_result(\n\u001b[1;32m   1595\u001b[0m                 \u001b[0mdata\u001b[0m\u001b[0;34m,\u001b[0m\u001b[0;34m\u001b[0m\u001b[0;34m\u001b[0m\u001b[0m\n",
      "\u001b[0;32m~/opt/anaconda3/envs/CSE583/lib/python3.8/site-packages/sqlalchemy/engine/result.py\u001b[0m in \u001b[0;36mfetchall\u001b[0;34m(self)\u001b[0m\n\u001b[1;32m   1012\u001b[0m         \u001b[0;34m\"\"\"A synonym for the :meth:`_engine.Result.all` method.\"\"\"\u001b[0m\u001b[0;34m\u001b[0m\u001b[0;34m\u001b[0m\u001b[0m\n\u001b[1;32m   1013\u001b[0m \u001b[0;34m\u001b[0m\u001b[0m\n\u001b[0;32m-> 1014\u001b[0;31m         \u001b[0;32mreturn\u001b[0m \u001b[0mself\u001b[0m\u001b[0;34m.\u001b[0m\u001b[0m_allrows\u001b[0m\u001b[0;34m(\u001b[0m\u001b[0;34m)\u001b[0m\u001b[0;34m\u001b[0m\u001b[0;34m\u001b[0m\u001b[0m\n\u001b[0m\u001b[1;32m   1015\u001b[0m \u001b[0;34m\u001b[0m\u001b[0m\n\u001b[1;32m   1016\u001b[0m     \u001b[0;32mdef\u001b[0m \u001b[0mfetchone\u001b[0m\u001b[0;34m(\u001b[0m\u001b[0mself\u001b[0m\u001b[0;34m)\u001b[0m\u001b[0;34m:\u001b[0m\u001b[0;34m\u001b[0m\u001b[0;34m\u001b[0m\u001b[0m\n",
      "\u001b[0;32m~/opt/anaconda3/envs/CSE583/lib/python3.8/site-packages/sqlalchemy/engine/result.py\u001b[0m in \u001b[0;36m_allrows\u001b[0;34m(self)\u001b[0m\n\u001b[1;32m    398\u001b[0m         \u001b[0mmake_row\u001b[0m \u001b[0;34m=\u001b[0m \u001b[0mself\u001b[0m\u001b[0;34m.\u001b[0m\u001b[0m_row_getter\u001b[0m\u001b[0;34m\u001b[0m\u001b[0;34m\u001b[0m\u001b[0m\n\u001b[1;32m    399\u001b[0m \u001b[0;34m\u001b[0m\u001b[0m\n\u001b[0;32m--> 400\u001b[0;31m         \u001b[0mrows\u001b[0m \u001b[0;34m=\u001b[0m \u001b[0mself\u001b[0m\u001b[0;34m.\u001b[0m\u001b[0m_fetchall_impl\u001b[0m\u001b[0;34m(\u001b[0m\u001b[0;34m)\u001b[0m\u001b[0;34m\u001b[0m\u001b[0;34m\u001b[0m\u001b[0m\n\u001b[0m\u001b[1;32m    401\u001b[0m         \u001b[0;32mif\u001b[0m \u001b[0mmake_row\u001b[0m\u001b[0;34m:\u001b[0m\u001b[0;34m\u001b[0m\u001b[0;34m\u001b[0m\u001b[0m\n\u001b[1;32m    402\u001b[0m             \u001b[0mmade_rows\u001b[0m \u001b[0;34m=\u001b[0m \u001b[0;34m[\u001b[0m\u001b[0mmake_row\u001b[0m\u001b[0;34m(\u001b[0m\u001b[0mrow\u001b[0m\u001b[0;34m)\u001b[0m \u001b[0;32mfor\u001b[0m \u001b[0mrow\u001b[0m \u001b[0;32min\u001b[0m \u001b[0mrows\u001b[0m\u001b[0;34m]\u001b[0m\u001b[0;34m\u001b[0m\u001b[0;34m\u001b[0m\u001b[0m\n",
      "\u001b[0;32m~/opt/anaconda3/envs/CSE583/lib/python3.8/site-packages/sqlalchemy/engine/cursor.py\u001b[0m in \u001b[0;36m_fetchall_impl\u001b[0;34m(self)\u001b[0m\n\u001b[1;32m   1801\u001b[0m \u001b[0;34m\u001b[0m\u001b[0m\n\u001b[1;32m   1802\u001b[0m     \u001b[0;32mdef\u001b[0m \u001b[0m_fetchall_impl\u001b[0m\u001b[0;34m(\u001b[0m\u001b[0mself\u001b[0m\u001b[0;34m)\u001b[0m\u001b[0;34m:\u001b[0m\u001b[0;34m\u001b[0m\u001b[0;34m\u001b[0m\u001b[0m\n\u001b[0;32m-> 1803\u001b[0;31m         \u001b[0;32mreturn\u001b[0m \u001b[0mself\u001b[0m\u001b[0;34m.\u001b[0m\u001b[0mcursor_strategy\u001b[0m\u001b[0;34m.\u001b[0m\u001b[0mfetchall\u001b[0m\u001b[0;34m(\u001b[0m\u001b[0mself\u001b[0m\u001b[0;34m,\u001b[0m \u001b[0mself\u001b[0m\u001b[0;34m.\u001b[0m\u001b[0mcursor\u001b[0m\u001b[0;34m)\u001b[0m\u001b[0;34m\u001b[0m\u001b[0;34m\u001b[0m\u001b[0m\n\u001b[0m\u001b[1;32m   1804\u001b[0m \u001b[0;34m\u001b[0m\u001b[0m\n\u001b[1;32m   1805\u001b[0m     \u001b[0;32mdef\u001b[0m \u001b[0m_fetchmany_impl\u001b[0m\u001b[0;34m(\u001b[0m\u001b[0mself\u001b[0m\u001b[0;34m,\u001b[0m \u001b[0msize\u001b[0m\u001b[0;34m=\u001b[0m\u001b[0;32mNone\u001b[0m\u001b[0;34m)\u001b[0m\u001b[0;34m:\u001b[0m\u001b[0;34m\u001b[0m\u001b[0;34m\u001b[0m\u001b[0m\n",
      "\u001b[0;32m~/opt/anaconda3/envs/CSE583/lib/python3.8/site-packages/sqlalchemy/engine/cursor.py\u001b[0m in \u001b[0;36mfetchall\u001b[0;34m(self, result, dbapi_cursor)\u001b[0m\n\u001b[1;32m    979\u001b[0m             \u001b[0;32mreturn\u001b[0m \u001b[0mrows\u001b[0m\u001b[0;34m\u001b[0m\u001b[0;34m\u001b[0m\u001b[0m\n\u001b[1;32m    980\u001b[0m         \u001b[0;32mexcept\u001b[0m \u001b[0mBaseException\u001b[0m \u001b[0;32mas\u001b[0m \u001b[0me\u001b[0m\u001b[0;34m:\u001b[0m\u001b[0;34m\u001b[0m\u001b[0;34m\u001b[0m\u001b[0m\n\u001b[0;32m--> 981\u001b[0;31m             \u001b[0mself\u001b[0m\u001b[0;34m.\u001b[0m\u001b[0mhandle_exception\u001b[0m\u001b[0;34m(\u001b[0m\u001b[0mresult\u001b[0m\u001b[0;34m,\u001b[0m \u001b[0mdbapi_cursor\u001b[0m\u001b[0;34m,\u001b[0m \u001b[0me\u001b[0m\u001b[0;34m)\u001b[0m\u001b[0;34m\u001b[0m\u001b[0;34m\u001b[0m\u001b[0m\n\u001b[0m\u001b[1;32m    982\u001b[0m \u001b[0;34m\u001b[0m\u001b[0m\n\u001b[1;32m    983\u001b[0m \u001b[0;34m\u001b[0m\u001b[0m\n",
      "\u001b[0;32m~/opt/anaconda3/envs/CSE583/lib/python3.8/site-packages/sqlalchemy/engine/cursor.py\u001b[0m in \u001b[0;36mhandle_exception\u001b[0;34m(self, result, dbapi_cursor, err)\u001b[0m\n\u001b[1;32m    939\u001b[0m \u001b[0;34m\u001b[0m\u001b[0m\n\u001b[1;32m    940\u001b[0m     \u001b[0;32mdef\u001b[0m \u001b[0mhandle_exception\u001b[0m\u001b[0;34m(\u001b[0m\u001b[0mself\u001b[0m\u001b[0;34m,\u001b[0m \u001b[0mresult\u001b[0m\u001b[0;34m,\u001b[0m \u001b[0mdbapi_cursor\u001b[0m\u001b[0;34m,\u001b[0m \u001b[0merr\u001b[0m\u001b[0;34m)\u001b[0m\u001b[0;34m:\u001b[0m\u001b[0;34m\u001b[0m\u001b[0;34m\u001b[0m\u001b[0m\n\u001b[0;32m--> 941\u001b[0;31m         result.connection._handle_dbapi_exception(\n\u001b[0m\u001b[1;32m    942\u001b[0m             \u001b[0merr\u001b[0m\u001b[0;34m,\u001b[0m \u001b[0;32mNone\u001b[0m\u001b[0;34m,\u001b[0m \u001b[0;32mNone\u001b[0m\u001b[0;34m,\u001b[0m \u001b[0mdbapi_cursor\u001b[0m\u001b[0;34m,\u001b[0m \u001b[0mresult\u001b[0m\u001b[0;34m.\u001b[0m\u001b[0mcontext\u001b[0m\u001b[0;34m\u001b[0m\u001b[0;34m\u001b[0m\u001b[0m\n\u001b[1;32m    943\u001b[0m         )\n",
      "\u001b[0;32m~/opt/anaconda3/envs/CSE583/lib/python3.8/site-packages/sqlalchemy/engine/base.py\u001b[0m in \u001b[0;36m_handle_dbapi_exception\u001b[0;34m(self, e, statement, parameters, cursor, context)\u001b[0m\n\u001b[1;32m   2028\u001b[0m                 )\n\u001b[1;32m   2029\u001b[0m             \u001b[0;32melse\u001b[0m\u001b[0;34m:\u001b[0m\u001b[0;34m\u001b[0m\u001b[0;34m\u001b[0m\u001b[0m\n\u001b[0;32m-> 2030\u001b[0;31m                 \u001b[0mutil\u001b[0m\u001b[0;34m.\u001b[0m\u001b[0mraise_\u001b[0m\u001b[0;34m(\u001b[0m\u001b[0mexc_info\u001b[0m\u001b[0;34m[\u001b[0m\u001b[0;36m1\u001b[0m\u001b[0;34m]\u001b[0m\u001b[0;34m,\u001b[0m \u001b[0mwith_traceback\u001b[0m\u001b[0;34m=\u001b[0m\u001b[0mexc_info\u001b[0m\u001b[0;34m[\u001b[0m\u001b[0;36m2\u001b[0m\u001b[0;34m]\u001b[0m\u001b[0;34m)\u001b[0m\u001b[0;34m\u001b[0m\u001b[0;34m\u001b[0m\u001b[0m\n\u001b[0m\u001b[1;32m   2031\u001b[0m \u001b[0;34m\u001b[0m\u001b[0m\n\u001b[1;32m   2032\u001b[0m         \u001b[0;32mfinally\u001b[0m\u001b[0;34m:\u001b[0m\u001b[0;34m\u001b[0m\u001b[0;34m\u001b[0m\u001b[0m\n",
      "\u001b[0;32m~/opt/anaconda3/envs/CSE583/lib/python3.8/site-packages/sqlalchemy/util/compat.py\u001b[0m in \u001b[0;36mraise_\u001b[0;34m(***failed resolving arguments***)\u001b[0m\n\u001b[1;32m    205\u001b[0m \u001b[0;34m\u001b[0m\u001b[0m\n\u001b[1;32m    206\u001b[0m         \u001b[0;32mtry\u001b[0m\u001b[0;34m:\u001b[0m\u001b[0;34m\u001b[0m\u001b[0;34m\u001b[0m\u001b[0m\n\u001b[0;32m--> 207\u001b[0;31m             \u001b[0;32mraise\u001b[0m \u001b[0mexception\u001b[0m\u001b[0;34m\u001b[0m\u001b[0;34m\u001b[0m\u001b[0m\n\u001b[0m\u001b[1;32m    208\u001b[0m         \u001b[0;32mfinally\u001b[0m\u001b[0;34m:\u001b[0m\u001b[0;34m\u001b[0m\u001b[0;34m\u001b[0m\u001b[0m\n\u001b[1;32m    209\u001b[0m             \u001b[0;31m# credit to\u001b[0m\u001b[0;34m\u001b[0m\u001b[0;34m\u001b[0m\u001b[0;34m\u001b[0m\u001b[0m\n",
      "\u001b[0;32m~/opt/anaconda3/envs/CSE583/lib/python3.8/site-packages/sqlalchemy/engine/cursor.py\u001b[0m in \u001b[0;36mfetchall\u001b[0;34m(self, result, dbapi_cursor)\u001b[0m\n\u001b[1;32m    975\u001b[0m     \u001b[0;32mdef\u001b[0m \u001b[0mfetchall\u001b[0m\u001b[0;34m(\u001b[0m\u001b[0mself\u001b[0m\u001b[0;34m,\u001b[0m \u001b[0mresult\u001b[0m\u001b[0;34m,\u001b[0m \u001b[0mdbapi_cursor\u001b[0m\u001b[0;34m)\u001b[0m\u001b[0;34m:\u001b[0m\u001b[0;34m\u001b[0m\u001b[0;34m\u001b[0m\u001b[0m\n\u001b[1;32m    976\u001b[0m         \u001b[0;32mtry\u001b[0m\u001b[0;34m:\u001b[0m\u001b[0;34m\u001b[0m\u001b[0;34m\u001b[0m\u001b[0m\n\u001b[0;32m--> 977\u001b[0;31m             \u001b[0mrows\u001b[0m \u001b[0;34m=\u001b[0m \u001b[0mdbapi_cursor\u001b[0m\u001b[0;34m.\u001b[0m\u001b[0mfetchall\u001b[0m\u001b[0;34m(\u001b[0m\u001b[0;34m)\u001b[0m\u001b[0;34m\u001b[0m\u001b[0;34m\u001b[0m\u001b[0m\n\u001b[0m\u001b[1;32m    978\u001b[0m             \u001b[0mresult\u001b[0m\u001b[0;34m.\u001b[0m\u001b[0m_soft_close\u001b[0m\u001b[0;34m(\u001b[0m\u001b[0;34m)\u001b[0m\u001b[0;34m\u001b[0m\u001b[0;34m\u001b[0m\u001b[0m\n\u001b[1;32m    979\u001b[0m             \u001b[0;32mreturn\u001b[0m \u001b[0mrows\u001b[0m\u001b[0;34m\u001b[0m\u001b[0;34m\u001b[0m\u001b[0m\n",
      "\u001b[0;31mKeyboardInterrupt\u001b[0m: "
     ]
    }
   ],
   "source": [
    "import pandas as pd\n",
    "\n",
    "#pip install pandasql\n",
    "from pandasql import sqldf\n",
    "\n",
    "\n",
    "cl = pd.read_csv('~/UW/WIN22/CEE412/project/dashboard/data/Countylist.csv')\n",
    "acc_rd_list = []\n",
    "for i in ['13','14','15','16','17']:\n",
    "    road_data = pd.read_csv('data/hsis-csv/wa{}road.csv'.format(i))\n",
    "    acc_data = pd.read_csv('data/hsis-csv/wa{}acc.csv'.format(i))\n",
    "    acc_data_wc = pd.merge(left = acc_data, right=cl, how = 'left', left_on = \"COUNTY\", right_on=\"COUNTY\")\n",
    "    pysqldf = lambda q: sqldf(q, globals())\n",
    "    cond_join= '''\n",
    "        SELECT \n",
    "            acc.* , rd.*\n",
    "        FROM acc_data_wc AS acc\n",
    "        LEFT JOIN road_data AS rd\n",
    "        ON \n",
    "        (acc.rd_inv = rd.ROAD_INV) AND (acc.milepost >= rd.BEGMP) AND (acc.milepost < rd.ENDMP)\n",
    "    '''\n",
    "    # Now, get your queries results as dataframe using the sqldf object that you created\n",
    "    acc_rd_wc = pysqldf(cond_join)\n",
    "    #acc_rd_wc.to_csv('data/acc_rd_wc{}'.format(i),index=False)\n",
    "    acc_rd_list.append(acc_rd_wc)"
   ]
  },
  {
   "cell_type": "code",
   "execution_count": null,
   "metadata": {},
   "outputs": [],
   "source": []
  }
 ],
 "metadata": {
  "colab": {
   "name": "code.ipynb",
   "provenance": []
  },
  "kernelspec": {
   "display_name": "Python 3 (ipykernel)",
   "language": "python",
   "name": "python3"
  },
  "language_info": {
   "codemirror_mode": {
    "name": "ipython",
    "version": 3
   },
   "file_extension": ".py",
   "mimetype": "text/x-python",
   "name": "python",
   "nbconvert_exporter": "python",
   "pygments_lexer": "ipython3",
   "version": "3.8.12"
  }
 },
 "nbformat": 4,
 "nbformat_minor": 1
}
